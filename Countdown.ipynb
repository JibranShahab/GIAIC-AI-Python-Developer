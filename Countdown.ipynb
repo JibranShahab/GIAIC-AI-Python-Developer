{
  "nbformat": 4,
  "nbformat_minor": 0,
  "metadata": {
    "colab": {
      "provenance": [],
      "authorship_tag": "ABX9TyP9utNx0Sx+rQid0Rrpp1nJ",
      "include_colab_link": true
    },
    "kernelspec": {
      "name": "python3",
      "display_name": "Python 3"
    },
    "language_info": {
      "name": "python"
    }
  },
  "cells": [
    {
      "cell_type": "markdown",
      "metadata": {
        "id": "view-in-github",
        "colab_type": "text"
      },
      "source": [
        "<a href=\"https://colab.research.google.com/github/JibranShahab/GIAIC-AI-Python-Developer/blob/main/Countdown.ipynb\" target=\"_parent\"><img src=\"https://colab.research.google.com/assets/colab-badge.svg\" alt=\"Open In Colab\"/></a>"
      ]
    },
    {
      "cell_type": "code",
      "execution_count": null,
      "metadata": {
        "colab": {
          "base_uri": "https://localhost:8080/"
        },
        "id": "i2iQv87s6YFK",
        "outputId": "6347f90e-6d6e-47eb-9fac-65562d75821b"
      },
      "outputs": [
        {
          "output_type": "stream",
          "name": "stdout",
          "text": [
            "Enter the time in seconds for the countdown: 10\n",
            "Countdown starting from 10 seconds...\n",
            "\n",
            "Time left: 10 seconds\n",
            "Time left: 9 seconds\n",
            "Time left: 8 seconds\n",
            "Time left: 7 seconds\n",
            "Time left: 6 seconds\n",
            "Time left: 5 seconds\n",
            "Time left: 4 seconds\n",
            "Time left: 3 seconds\n",
            "Time left: 2 seconds\n",
            "Time left: 1 seconds\n",
            "\n",
            "Time's up! The countdown has finished.\n"
          ]
        }
      ],
      "source": [
        "import time\n",
        "\n",
        "# Function to implement the countdown timer\n",
        "def countdown_timer():\n",
        "    # Ask the user for the time in seconds\n",
        "    try:\n",
        "        seconds = int(input(\"Enter the time in seconds for the countdown: \"))\n",
        "    except ValueError:\n",
        "        print(\"Please enter a valid number.\")\n",
        "        return\n",
        "\n",
        "    # Check if the input is a valid positive integer\n",
        "    if seconds <= 0:\n",
        "        print(\"Please enter a number greater than zero.\")\n",
        "        return\n",
        "\n",
        "    print(f\"Countdown starting from {seconds} seconds...\\n\")\n",
        "\n",
        "    # Countdown loop\n",
        "    while seconds > 0:\n",
        "        # Display the remaining time\n",
        "        print(f\"Time left: {seconds} seconds\")\n",
        "        time.sleep(1)  # Wait for 1 second\n",
        "        seconds -= 1  # Decrease the time by 1 second\n",
        "\n",
        "    # When the countdown reaches zero\n",
        "    print(\"\\nTime's up! The countdown has finished.\")\n",
        "\n",
        "# Call the function to start the countdown timer\n",
        "countdown_timer()\n"
      ]
    }
  ]
}